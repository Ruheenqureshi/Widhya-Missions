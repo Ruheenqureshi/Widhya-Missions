{
 "cells": [
  {
   "cell_type": "code",
   "execution_count": null,
   "metadata": {},
   "outputs": [],
   "source": [
    "import pandas as pd"
   ]
  },
  {
   "cell_type": "code",
   "execution_count": 2,
   "metadata": {},
   "outputs": [
    {
     "name": "stdout",
     "output_type": "stream",
     "text": [
      "Data imported successfully\n"
     ]
    },
    {
     "data": {
      "text/html": [
       "<div>\n",
       "<style scoped>\n",
       "    .dataframe tbody tr th:only-of-type {\n",
       "        vertical-align: middle;\n",
       "    }\n",
       "\n",
       "    .dataframe tbody tr th {\n",
       "        vertical-align: top;\n",
       "    }\n",
       "\n",
       "    .dataframe thead th {\n",
       "        text-align: right;\n",
       "    }\n",
       "</style>\n",
       "<table border=\"1\" class=\"dataframe\">\n",
       "  <thead>\n",
       "    <tr style=\"text-align: right;\">\n",
       "      <th></th>\n",
       "      <th>Date</th>\n",
       "      <th>btc_market_price</th>\n",
       "      <th>btc_total_bitcoins</th>\n",
       "      <th>btc_market_cap</th>\n",
       "      <th>btc_trade_volume</th>\n",
       "      <th>btc_blocks_size</th>\n",
       "      <th>btc_avg_block_size</th>\n",
       "      <th>btc_n_orphaned_blocks</th>\n",
       "      <th>btc_n_transactions_per_block</th>\n",
       "      <th>btc_median_confirmation_time</th>\n",
       "      <th>...</th>\n",
       "      <th>btc_cost_per_transaction_percent</th>\n",
       "      <th>btc_cost_per_transaction</th>\n",
       "      <th>btc_n_unique_addresses</th>\n",
       "      <th>btc_n_transactions</th>\n",
       "      <th>btc_n_transactions_total</th>\n",
       "      <th>btc_n_transactions_excluding_popular</th>\n",
       "      <th>btc_n_transactions_excluding_chains_longer_than_100</th>\n",
       "      <th>btc_output_volume</th>\n",
       "      <th>btc_estimated_transaction_volume</th>\n",
       "      <th>btc_estimated_transaction_volume_usd</th>\n",
       "    </tr>\n",
       "  </thead>\n",
       "  <tbody>\n",
       "    <tr>\n",
       "      <th>0</th>\n",
       "      <td>2/17/2010</td>\n",
       "      <td>0.0</td>\n",
       "      <td>2043200.0</td>\n",
       "      <td>0.0</td>\n",
       "      <td>0.0</td>\n",
       "      <td>0.0</td>\n",
       "      <td>0.000235</td>\n",
       "      <td>0</td>\n",
       "      <td>1.0</td>\n",
       "      <td>0.0</td>\n",
       "      <td>...</td>\n",
       "      <td>31.781022</td>\n",
       "      <td>0.0</td>\n",
       "      <td>241</td>\n",
       "      <td>244</td>\n",
       "      <td>41240</td>\n",
       "      <td>244</td>\n",
       "      <td>244</td>\n",
       "      <td>65173.13</td>\n",
       "      <td>36500.0</td>\n",
       "      <td>0.0</td>\n",
       "    </tr>\n",
       "    <tr>\n",
       "      <th>1</th>\n",
       "      <td>2/18/2010</td>\n",
       "      <td>0.0</td>\n",
       "      <td>2054650.0</td>\n",
       "      <td>0.0</td>\n",
       "      <td>0.0</td>\n",
       "      <td>0.0</td>\n",
       "      <td>0.000241</td>\n",
       "      <td>0</td>\n",
       "      <td>1.0</td>\n",
       "      <td>0.0</td>\n",
       "      <td>...</td>\n",
       "      <td>154.463801</td>\n",
       "      <td>0.0</td>\n",
       "      <td>234</td>\n",
       "      <td>235</td>\n",
       "      <td>41475</td>\n",
       "      <td>235</td>\n",
       "      <td>235</td>\n",
       "      <td>18911.74</td>\n",
       "      <td>7413.0</td>\n",
       "      <td>0.0</td>\n",
       "    </tr>\n",
       "    <tr>\n",
       "      <th>2</th>\n",
       "      <td>2/19/2010</td>\n",
       "      <td>0.0</td>\n",
       "      <td>2063600.0</td>\n",
       "      <td>0.0</td>\n",
       "      <td>0.0</td>\n",
       "      <td>0.0</td>\n",
       "      <td>0.000228</td>\n",
       "      <td>0</td>\n",
       "      <td>1.0</td>\n",
       "      <td>0.0</td>\n",
       "      <td>...</td>\n",
       "      <td>1278.516635</td>\n",
       "      <td>0.0</td>\n",
       "      <td>185</td>\n",
       "      <td>183</td>\n",
       "      <td>41658</td>\n",
       "      <td>183</td>\n",
       "      <td>183</td>\n",
       "      <td>9749.98</td>\n",
       "      <td>700.0</td>\n",
       "      <td>0.0</td>\n",
       "    </tr>\n",
       "    <tr>\n",
       "      <th>3</th>\n",
       "      <td>2/20/2010</td>\n",
       "      <td>0.0</td>\n",
       "      <td>2074700.0</td>\n",
       "      <td>0.0</td>\n",
       "      <td>0.0</td>\n",
       "      <td>0.0</td>\n",
       "      <td>0.000218</td>\n",
       "      <td>0</td>\n",
       "      <td>1.0</td>\n",
       "      <td>0.0</td>\n",
       "      <td>...</td>\n",
       "      <td>22186.687990</td>\n",
       "      <td>0.0</td>\n",
       "      <td>224</td>\n",
       "      <td>224</td>\n",
       "      <td>41882</td>\n",
       "      <td>224</td>\n",
       "      <td>224</td>\n",
       "      <td>11150.03</td>\n",
       "      <td>50.0</td>\n",
       "      <td>0.0</td>\n",
       "    </tr>\n",
       "    <tr>\n",
       "      <th>4</th>\n",
       "      <td>2/21/2010</td>\n",
       "      <td>0.0</td>\n",
       "      <td>2085400.0</td>\n",
       "      <td>0.0</td>\n",
       "      <td>0.0</td>\n",
       "      <td>0.0</td>\n",
       "      <td>0.000234</td>\n",
       "      <td>0</td>\n",
       "      <td>1.0</td>\n",
       "      <td>0.0</td>\n",
       "      <td>...</td>\n",
       "      <td>689.179876</td>\n",
       "      <td>0.0</td>\n",
       "      <td>218</td>\n",
       "      <td>218</td>\n",
       "      <td>42100</td>\n",
       "      <td>218</td>\n",
       "      <td>218</td>\n",
       "      <td>12266.83</td>\n",
       "      <td>1553.0</td>\n",
       "      <td>0.0</td>\n",
       "    </tr>\n",
       "  </tbody>\n",
       "</table>\n",
       "<p>5 rows × 24 columns</p>\n",
       "</div>"
      ],
      "text/plain": [
       "        Date  btc_market_price  btc_total_bitcoins  btc_market_cap  \\\n",
       "0  2/17/2010               0.0           2043200.0             0.0   \n",
       "1  2/18/2010               0.0           2054650.0             0.0   \n",
       "2  2/19/2010               0.0           2063600.0             0.0   \n",
       "3  2/20/2010               0.0           2074700.0             0.0   \n",
       "4  2/21/2010               0.0           2085400.0             0.0   \n",
       "\n",
       "   btc_trade_volume  btc_blocks_size  btc_avg_block_size  \\\n",
       "0               0.0              0.0            0.000235   \n",
       "1               0.0              0.0            0.000241   \n",
       "2               0.0              0.0            0.000228   \n",
       "3               0.0              0.0            0.000218   \n",
       "4               0.0              0.0            0.000234   \n",
       "\n",
       "   btc_n_orphaned_blocks  btc_n_transactions_per_block  \\\n",
       "0                      0                           1.0   \n",
       "1                      0                           1.0   \n",
       "2                      0                           1.0   \n",
       "3                      0                           1.0   \n",
       "4                      0                           1.0   \n",
       "\n",
       "   btc_median_confirmation_time  ...  btc_cost_per_transaction_percent  \\\n",
       "0                           0.0  ...                         31.781022   \n",
       "1                           0.0  ...                        154.463801   \n",
       "2                           0.0  ...                       1278.516635   \n",
       "3                           0.0  ...                      22186.687990   \n",
       "4                           0.0  ...                        689.179876   \n",
       "\n",
       "   btc_cost_per_transaction  btc_n_unique_addresses  btc_n_transactions  \\\n",
       "0                       0.0                     241                 244   \n",
       "1                       0.0                     234                 235   \n",
       "2                       0.0                     185                 183   \n",
       "3                       0.0                     224                 224   \n",
       "4                       0.0                     218                 218   \n",
       "\n",
       "   btc_n_transactions_total  btc_n_transactions_excluding_popular  \\\n",
       "0                     41240                                   244   \n",
       "1                     41475                                   235   \n",
       "2                     41658                                   183   \n",
       "3                     41882                                   224   \n",
       "4                     42100                                   218   \n",
       "\n",
       "   btc_n_transactions_excluding_chains_longer_than_100  btc_output_volume  \\\n",
       "0                                                244             65173.13   \n",
       "1                                                235             18911.74   \n",
       "2                                                183              9749.98   \n",
       "3                                                224             11150.03   \n",
       "4                                                218             12266.83   \n",
       "\n",
       "   btc_estimated_transaction_volume  btc_estimated_transaction_volume_usd  \n",
       "0                           36500.0                                   0.0  \n",
       "1                            7413.0                                   0.0  \n",
       "2                             700.0                                   0.0  \n",
       "3                              50.0                                   0.0  \n",
       "4                            1553.0                                   0.0  \n",
       "\n",
       "[5 rows x 24 columns]"
      ]
     },
     "execution_count": 2,
     "metadata": {},
     "output_type": "execute_result"
    }
   ],
   "source": [
    "df = pd.read_csv(\"bitcoin_dataset.csv\")\n",
    "print(\"Data imported successfully\")\n",
    "df.head()"
   ]
  },
  {
   "cell_type": "code",
   "execution_count": 3,
   "metadata": {},
   "outputs": [],
   "source": [
    "value = df['btc_market_price']"
   ]
  },
  {
   "cell_type": "code",
   "execution_count": 4,
   "metadata": {},
   "outputs": [
    {
     "data": {
      "text/plain": [
       "13.6888"
      ]
     },
     "execution_count": 4,
     "metadata": {},
     "output_type": "execute_result"
    }
   ],
   "source": [
    "value[1023]"
   ]
  },
  {
   "cell_type": "code",
   "execution_count": 5,
   "metadata": {},
   "outputs": [],
   "source": [
    "import seaborn as sns"
   ]
  },
  {
   "cell_type": "code",
   "execution_count": 6,
   "metadata": {},
   "outputs": [
    {
     "data": {
      "text/plain": [
       "<seaborn.axisgrid.JointGrid at 0x54f0850>"
      ]
     },
     "execution_count": 6,
     "metadata": {},
     "output_type": "execute_result"
    },
    {
     "data": {
      "image/png": "[encoded data removed]",
      "text/plain": [
       "<Figure size 432x432 with 3 Axes>"
      ]
     },
     "metadata": {
      "needs_background": "light"
     },
     "output_type": "display_data"
    }
   ],
   "source": [
    "sns.jointplot(data = df, x= \"btc_market_price\", y = \"btc_total_bitcoins\")"
   ]
  },
  {
   "cell_type": "code",
   "execution_count": 8,
   "metadata": {},
   "outputs": [
    {
     "data": {
      "text/plain": [
       "<seaborn.axisgrid.JointGrid at 0x9774da8>"
      ]
     },
     "execution_count": 8,
     "metadata": {},
     "output_type": "execute_result"
    },
    {
     "data": {
      "image/png": "[encoded data removed]",
      "text/plain": [
       "<Figure size 432x432 with 3 Axes>"
      ]
     },
     "metadata": {
      "needs_background": "light"
     },
     "output_type": "display_data"
    },
    {
     "data": {
      "image/png": "[encoded data removed]",
      "text/plain": [
       "<Figure size 432x432 with 3 Axes>"
      ]
     },
     "metadata": {
      "needs_background": "light"
     },
     "output_type": "display_data"
    },
    {
     "data": {
      "image/png": "[encoded data removed]",
      "text/plain": [
       "<Figure size 432x432 with 3 Axes>"
      ]
     },
     "metadata": {
      "needs_background": "light"
     },
     "output_type": "display_data"
    },
    {
     "data": {
      "image/png": "[encoded data removed]",
      "text/plain": [
       "<Figure size 432x432 with 3 Axes>"
      ]
     },
     "metadata": {
      "needs_background": "light"
     },
     "output_type": "display_data"
    }
   ],
   "source": [
    "sns.jointplot(data = df, x= \"btc_market_price\", y = \"btc_market_cap\")\n",
    "sns.jointplot(data = df, x= \"btc_market_price\", y = \"btc_trade_volume\")\n",
    "sns.jointplot(data = df, x= \"btc_market_price\", y = \"btc_blocks_size\")\n",
    "sns.jointplot(data = df, x= \"btc_market_price\", y = \"btc_avg_block_size\")\n"
   ]
  },
  {
   "cell_type": "code",
   "execution_count": 16,
   "metadata": {
    "scrolled": true
   },
   "outputs": [
    {
     "data": {
      "text/plain": [
       "Date                                                    0\n",
       "btc_market_price                                        0\n",
       "btc_total_bitcoins                                     27\n",
       "btc_market_cap                                          0\n",
       "btc_trade_volume                                       21\n",
       "btc_blocks_size                                        29\n",
       "btc_avg_block_size                                      0\n",
       "btc_n_orphaned_blocks                                   0\n",
       "btc_n_transactions_per_block                            0\n",
       "btc_median_confirmation_time                           12\n",
       "btc_hash_rate                                           0\n",
       "btc_difficulty                                         16\n",
       "btc_miners_revenue                                      0\n",
       "btc_transaction_fees                                   10\n",
       "btc_cost_per_transaction_percent                        0\n",
       "btc_cost_per_transaction                                0\n",
       "btc_n_unique_addresses                                  0\n",
       "btc_n_transactions                                      0\n",
       "btc_n_transactions_total                                0\n",
       "btc_n_transactions_excluding_popular                    0\n",
       "btc_n_transactions_excluding_chains_longer_than_100     0\n",
       "btc_output_volume                                       0\n",
       "btc_estimated_transaction_volume                        0\n",
       "btc_estimated_transaction_volume_usd                    0\n",
       "dtype: int64"
      ]
     },
     "execution_count": 16,
     "metadata": {},
     "output_type": "execute_result"
    }
   ],
   "source": [
    "df.isna().sum()"
   ]
  },
  {
   "cell_type": "code",
   "execution_count": 7,
   "metadata": {},
   "outputs": [
    {
     "data": {
      "text/html": [
       "<div>\n",
       "<style scoped>\n",
       "    .dataframe tbody tr th:only-of-type {\n",
       "        vertical-align: middle;\n",
       "    }\n",
       "\n",
       "    .dataframe tbody tr th {\n",
       "        vertical-align: top;\n",
       "    }\n",
       "\n",
       "    .dataframe thead th {\n",
       "        text-align: right;\n",
       "    }\n",
       "</style>\n",
       "<table border=\"1\" class=\"dataframe\">\n",
       "  <thead>\n",
       "    <tr style=\"text-align: right;\">\n",
       "      <th></th>\n",
       "      <th>Date</th>\n",
       "      <th>btc_market_price</th>\n",
       "      <th>btc_total_bitcoins</th>\n",
       "      <th>btc_market_cap</th>\n",
       "      <th>btc_trade_volume</th>\n",
       "      <th>btc_blocks_size</th>\n",
       "      <th>btc_avg_block_size</th>\n",
       "      <th>btc_n_orphaned_blocks</th>\n",
       "      <th>btc_n_transactions_per_block</th>\n",
       "      <th>btc_median_confirmation_time</th>\n",
       "      <th>...</th>\n",
       "      <th>btc_cost_per_transaction_percent</th>\n",
       "      <th>btc_cost_per_transaction</th>\n",
       "      <th>btc_n_unique_addresses</th>\n",
       "      <th>btc_n_transactions</th>\n",
       "      <th>btc_n_transactions_total</th>\n",
       "      <th>btc_n_transactions_excluding_popular</th>\n",
       "      <th>btc_n_transactions_excluding_chains_longer_than_100</th>\n",
       "      <th>btc_output_volume</th>\n",
       "      <th>btc_estimated_transaction_volume</th>\n",
       "      <th>btc_estimated_transaction_volume_usd</th>\n",
       "    </tr>\n",
       "  </thead>\n",
       "  <tbody>\n",
       "    <tr>\n",
       "      <th>0</th>\n",
       "      <td>2/17/2010</td>\n",
       "      <td>0.0</td>\n",
       "      <td>2043200.0</td>\n",
       "      <td>0.0</td>\n",
       "      <td>0.0</td>\n",
       "      <td>0.0</td>\n",
       "      <td>0.000235</td>\n",
       "      <td>0</td>\n",
       "      <td>1.0</td>\n",
       "      <td>0.0</td>\n",
       "      <td>...</td>\n",
       "      <td>31.781022</td>\n",
       "      <td>0.0</td>\n",
       "      <td>241</td>\n",
       "      <td>244</td>\n",
       "      <td>41240</td>\n",
       "      <td>244</td>\n",
       "      <td>244</td>\n",
       "      <td>65173.13</td>\n",
       "      <td>36500.0</td>\n",
       "      <td>0.0</td>\n",
       "    </tr>\n",
       "    <tr>\n",
       "      <th>1</th>\n",
       "      <td>2/18/2010</td>\n",
       "      <td>0.0</td>\n",
       "      <td>2054650.0</td>\n",
       "      <td>0.0</td>\n",
       "      <td>0.0</td>\n",
       "      <td>0.0</td>\n",
       "      <td>0.000241</td>\n",
       "      <td>0</td>\n",
       "      <td>1.0</td>\n",
       "      <td>0.0</td>\n",
       "      <td>...</td>\n",
       "      <td>154.463801</td>\n",
       "      <td>0.0</td>\n",
       "      <td>234</td>\n",
       "      <td>235</td>\n",
       "      <td>41475</td>\n",
       "      <td>235</td>\n",
       "      <td>235</td>\n",
       "      <td>18911.74</td>\n",
       "      <td>7413.0</td>\n",
       "      <td>0.0</td>\n",
       "    </tr>\n",
       "    <tr>\n",
       "      <th>2</th>\n",
       "      <td>2/19/2010</td>\n",
       "      <td>0.0</td>\n",
       "      <td>2063600.0</td>\n",
       "      <td>0.0</td>\n",
       "      <td>0.0</td>\n",
       "      <td>0.0</td>\n",
       "      <td>0.000228</td>\n",
       "      <td>0</td>\n",
       "      <td>1.0</td>\n",
       "      <td>0.0</td>\n",
       "      <td>...</td>\n",
       "      <td>1278.516635</td>\n",
       "      <td>0.0</td>\n",
       "      <td>185</td>\n",
       "      <td>183</td>\n",
       "      <td>41658</td>\n",
       "      <td>183</td>\n",
       "      <td>183</td>\n",
       "      <td>9749.98</td>\n",
       "      <td>700.0</td>\n",
       "      <td>0.0</td>\n",
       "    </tr>\n",
       "    <tr>\n",
       "      <th>3</th>\n",
       "      <td>2/20/2010</td>\n",
       "      <td>0.0</td>\n",
       "      <td>2074700.0</td>\n",
       "      <td>0.0</td>\n",
       "      <td>0.0</td>\n",
       "      <td>0.0</td>\n",
       "      <td>0.000218</td>\n",
       "      <td>0</td>\n",
       "      <td>1.0</td>\n",
       "      <td>0.0</td>\n",
       "      <td>...</td>\n",
       "      <td>22186.687990</td>\n",
       "      <td>0.0</td>\n",
       "      <td>224</td>\n",
       "      <td>224</td>\n",
       "      <td>41882</td>\n",
       "      <td>224</td>\n",
       "      <td>224</td>\n",
       "      <td>11150.03</td>\n",
       "      <td>50.0</td>\n",
       "      <td>0.0</td>\n",
       "    </tr>\n",
       "    <tr>\n",
       "      <th>4</th>\n",
       "      <td>2/21/2010</td>\n",
       "      <td>0.0</td>\n",
       "      <td>2085400.0</td>\n",
       "      <td>0.0</td>\n",
       "      <td>0.0</td>\n",
       "      <td>0.0</td>\n",
       "      <td>0.000234</td>\n",
       "      <td>0</td>\n",
       "      <td>1.0</td>\n",
       "      <td>0.0</td>\n",
       "      <td>...</td>\n",
       "      <td>689.179876</td>\n",
       "      <td>0.0</td>\n",
       "      <td>218</td>\n",
       "      <td>218</td>\n",
       "      <td>42100</td>\n",
       "      <td>218</td>\n",
       "      <td>218</td>\n",
       "      <td>12266.83</td>\n",
       "      <td>1553.0</td>\n",
       "      <td>0.0</td>\n",
       "    </tr>\n",
       "  </tbody>\n",
       "</table>\n",
       "<p>5 rows × 24 columns</p>\n",
       "</div>"
      ],
      "text/plain": [
       "        Date  btc_market_price  btc_total_bitcoins  btc_market_cap  \\\n",
       "0  2/17/2010               0.0           2043200.0             0.0   \n",
       "1  2/18/2010               0.0           2054650.0             0.0   \n",
       "2  2/19/2010               0.0           2063600.0             0.0   \n",
       "3  2/20/2010               0.0           2074700.0             0.0   \n",
       "4  2/21/2010               0.0           2085400.0             0.0   \n",
       "\n",
       "   btc_trade_volume  btc_blocks_size  btc_avg_block_size  \\\n",
       "0               0.0              0.0            0.000235   \n",
       "1               0.0              0.0            0.000241   \n",
       "2               0.0              0.0            0.000228   \n",
       "3               0.0              0.0            0.000218   \n",
       "4               0.0              0.0            0.000234   \n",
       "\n",
       "   btc_n_orphaned_blocks  btc_n_transactions_per_block  \\\n",
       "0                      0                           1.0   \n",
       "1                      0                           1.0   \n",
       "2                      0                           1.0   \n",
       "3                      0                           1.0   \n",
       "4                      0                           1.0   \n",
       "\n",
       "   btc_median_confirmation_time  ...  btc_cost_per_transaction_percent  \\\n",
       "0                           0.0  ...                         31.781022   \n",
       "1                           0.0  ...                        154.463801   \n",
       "2                           0.0  ...                       1278.516635   \n",
       "3                           0.0  ...                      22186.687990   \n",
       "4                           0.0  ...                        689.179876   \n",
       "\n",
       "   btc_cost_per_transaction  btc_n_unique_addresses  btc_n_transactions  \\\n",
       "0                       0.0                     241                 244   \n",
       "1                       0.0                     234                 235   \n",
       "2                       0.0                     185                 183   \n",
       "3                       0.0                     224                 224   \n",
       "4                       0.0                     218                 218   \n",
       "\n",
       "   btc_n_transactions_total  btc_n_transactions_excluding_popular  \\\n",
       "0                     41240                                   244   \n",
       "1                     41475                                   235   \n",
       "2                     41658                                   183   \n",
       "3                     41882                                   224   \n",
       "4                     42100                                   218   \n",
       "\n",
       "   btc_n_transactions_excluding_chains_longer_than_100  btc_output_volume  \\\n",
       "0                                                244             65173.13   \n",
       "1                                                235             18911.74   \n",
       "2                                                183              9749.98   \n",
       "3                                                224             11150.03   \n",
       "4                                                218             12266.83   \n",
       "\n",
       "   btc_estimated_transaction_volume  btc_estimated_transaction_volume_usd  \n",
       "0                           36500.0                                   0.0  \n",
       "1                            7413.0                                   0.0  \n",
       "2                             700.0                                   0.0  \n",
       "3                              50.0                                   0.0  \n",
       "4                            1553.0                                   0.0  \n",
       "\n",
       "[5 rows x 24 columns]"
      ]
     },
     "execution_count": 7,
     "metadata": {},
     "output_type": "execute_result"
    }
   ],
   "source": [
    "df.head()"
   ]
  },
  {
   "cell_type": "code",
   "execution_count": 8,
   "metadata": {},
   "outputs": [],
   "source": [
    "X = df[['btc_market_cap' ,'btc_n_transactions_per_block' ,'btc_cost_per_transaction_percent','btc_cost_per_transaction']].values\n",
    "y = df['btc_market_price'].values"
   ]
  },
  {
   "cell_type": "code",
   "execution_count": 9,
   "metadata": {},
   "outputs": [],
   "source": [
    "from sklearn import linear_model \n",
    "from sklearn.linear_model import LinearRegression\n",
    "from sklearn import metrics\n",
    "from sklearn.metrics import mean_squared_error"
   ]
  },
  {
   "cell_type": "code",
   "execution_count": 11,
   "metadata": {},
   "outputs": [],
   "source": [
    "from sklearn.model_selection import train_test_split\n",
    "X_train, X_test, y_train, y_test = train_test_split(X, y, test_size=0.2, random_state=0)"
   ]
  },
  {
   "cell_type": "code",
   "execution_count": 12,
   "metadata": {},
   "outputs": [
    {
     "data": {
      "text/plain": [
       "LinearRegression()"
      ]
     },
     "execution_count": 12,
     "metadata": {},
     "output_type": "execute_result"
    }
   ],
   "source": [
    "regressor = LinearRegression()  \n",
    "regressor.fit(X_train, y_train) "
   ]
  },
  {
   "cell_type": "code",
   "execution_count": 13,
   "metadata": {},
   "outputs": [
    {
     "name": "stdout",
     "output_type": "stream",
     "text": [
      "[5.77523798e-08 3.01471563e-02 1.67951148e-04 3.57307325e+00]\n"
     ]
    }
   ],
   "source": [
    "print(regressor.coef_)"
   ]
  },
  {
   "cell_type": "code",
   "execution_count": 14,
   "metadata": {},
   "outputs": [],
   "source": [
    "y_prediction = regressor.predict(X_test)"
   ]
  },
  {
   "cell_type": "code",
   "execution_count": 15,
   "metadata": {},
   "outputs": [
    {
     "name": "stdout",
     "output_type": "stream",
     "text": [
      "Mean Square Error: 552.6901279723685\n"
     ]
    }
   ],
   "source": [
    "print('Mean Square Error:', metrics.mean_squared_error(y_test, y_prediction))"
   ]
  },
  {
   "cell_type": "code",
   "execution_count": null,
   "metadata": {},
   "outputs": [],
   "source": []
  }
 ],
 "metadata": {
  "kernelspec": {
   "display_name": "Python 3",
   "language": "python",
   "name": "python3"
  },
  "language_info": {
   "codemirror_mode": {
    "name": "ipython",
    "version": 3
   },
   "file_extension": ".py",
   "mimetype": "text/x-python",
   "name": "python",
   "nbconvert_exporter": "python",
   "pygments_lexer": "ipython3",
   "version": "3.8.3"
  }
 },
 "nbformat": 4,
 "nbformat_minor": 4
}
